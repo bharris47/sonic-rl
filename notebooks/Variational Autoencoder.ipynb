{
 "cells": [
  {
   "cell_type": "code",
   "execution_count": 3,
   "metadata": {},
   "outputs": [
    {
     "name": "stderr",
     "output_type": "stream",
     "text": [
      "/home/ben/virtualenvs/sonicrl/lib/python3.6/site-packages/h5py/__init__.py:36: FutureWarning: Conversion of the second argument of issubdtype from `float` to `np.floating` is deprecated. In future, it will be treated as `np.float64 == np.dtype(float).type`.\n",
      "  from ._conv import register_converters as _register_converters\n",
      "Using TensorFlow backend.\n"
     ]
    }
   ],
   "source": [
    "import os\n",
    "import random\n",
    "import sys\n",
    "sys.path.append('../')\n",
    "from sonicrl.worldmodel.autoencoder import autoencoder, load_image\n",
    "\n",
    "import cv2\n",
    "import numpy as np\n",
    "import ipywidgets as widgets\n",
    "\n",
    "from IPython.display import display"
   ]
  },
  {
   "cell_type": "code",
   "execution_count": 10,
   "metadata": {},
   "outputs": [],
   "source": [
    "ENCODER_WEIGHTS = '/home/ben/PycharmProjects/sonicrl/checkpoints/encoder.01-33845.851172.hdf5'\n",
    "DECODER_WEIGHTS = '/home/ben/PycharmProjects/sonicrl/checkpoints/decoder.01-33845.851172.hdf5'\n",
    "\n",
    "FRAMES_DIRECTORY = '/home/ben/PycharmProjects/frames/'"
   ]
  },
  {
   "cell_type": "code",
   "execution_count": 5,
   "metadata": {},
   "outputs": [],
   "source": [
    "def get_image_bytes(path):\n",
    "    with open(path, 'rb') as f:\n",
    "        return f.read()\n",
    "\n",
    "def encode_image(image):\n",
    "    image = image * 255.\n",
    "    image = image.astype(np.uint8)\n",
    "    _, image_bytes = cv2.imencode('.jpg', image)\n",
    "    return image_bytes.tobytes()"
   ]
  },
  {
   "cell_type": "code",
   "execution_count": 6,
   "metadata": {},
   "outputs": [
    {
     "name": "stdout",
     "output_type": "stream",
     "text": [
      "_________________________________________________________________\n",
      "Layer (type)                 Output Shape              Param #   \n",
      "=================================================================\n",
      "input_1 (InputLayer)         (None, 224, 320, 3)       0         \n",
      "_________________________________________________________________\n",
      "encoder (Model)              [(None, 64), (None, 64),  36792532  \n",
      "_________________________________________________________________\n",
      "decoder (Model)              (None, 224, 320, 3)       37107715  \n",
      "=================================================================\n",
      "Total params: 73,900,247\n",
      "Trainable params: 73,900,247\n",
      "Non-trainable params: 0\n",
      "_________________________________________________________________\n"
     ]
    },
    {
     "name": "stderr",
     "output_type": "stream",
     "text": [
      "../sonicrl/worldmodel/autoencoder.py:111: UserWarning: Output \"decoder\" missing from loss dictionary. We assume this was done on purpose, and we will not be expecting any data to be passed to \"decoder\" during training.\n",
      "  vae.compile(optimizer='rmsprop')\n"
     ]
    }
   ],
   "source": [
    "_, encoder, decoder = autoencoder((224, 320, 3))"
   ]
  },
  {
   "cell_type": "code",
   "execution_count": 11,
   "metadata": {},
   "outputs": [],
   "source": [
    "encoder.load_weights(ENCODER_WEIGHTS)\n",
    "decoder.load_weights(DECODER_WEIGHTS)"
   ]
  },
  {
   "cell_type": "code",
   "execution_count": 8,
   "metadata": {},
   "outputs": [],
   "source": [
    "paths = [os.path.join(FRAMES_DIRECTORY, fn) for fn in os.listdir(FRAMES_DIRECTORY)]"
   ]
  },
  {
   "cell_type": "code",
   "execution_count": 9,
   "metadata": {},
   "outputs": [
    {
     "data": {
      "application/vnd.jupyter.widget-view+json": {
       "model_id": "1f50e54fcc1546e0ab29cf5141496653",
       "version_major": 2,
       "version_minor": 0
      },
      "text/plain": [
       "VBox(children=(Button(description='Random Image', style=ButtonStyle()), HBox(children=(Image(value=b'', format…"
      ]
     },
     "metadata": {},
     "output_type": "display_data"
    }
   ],
   "source": [
    "def autoencode_random_image(_):\n",
    "    path = random.choice(paths)\n",
    "    image_bytes = get_image_bytes(path)\n",
    "    source_widget.value = image_bytes\n",
    "    image = load_image(path)\n",
    "    \n",
    "    z_mean, _, _ = encoder.predict(np.expand_dims(image, 0))\n",
    "    \n",
    "    reconstructed = decoder.predict(z_mean)[0]\n",
    "    reconstructed_bytes = encode_image(reconstructed)\n",
    "    reconstructed_widget.value = reconstructed_bytes\n",
    "    \n",
    "trigger = widgets.Button(description='Random Image')\n",
    "trigger.on_click(autoencode_random_image)\n",
    "\n",
    "source_widget = widgets.Image(format='jpg', height=224, width=320)\n",
    "reconstructed_widget = widgets.Image(format='jpg', height=224, width=320)\n",
    "\n",
    "image_layout = widgets.HBox([source_widget, reconstructed_widget])\n",
    "layout = widgets.VBox([trigger, image_layout])\n",
    "display(layout)\n",
    "autoencode_random_image(None)"
   ]
  },
  {
   "cell_type": "code",
   "execution_count": null,
   "metadata": {},
   "outputs": [],
   "source": []
  }
 ],
 "metadata": {
  "kernelspec": {
   "display_name": "Python 3 (sonicrl)",
   "language": "python",
   "name": "sonicrl"
  },
  "language_info": {
   "codemirror_mode": {
    "name": "ipython",
    "version": 3
   },
   "file_extension": ".py",
   "mimetype": "text/x-python",
   "name": "python",
   "nbconvert_exporter": "python",
   "pygments_lexer": "ipython3",
   "version": "3.6.3"
  }
 },
 "nbformat": 4,
 "nbformat_minor": 2
}
