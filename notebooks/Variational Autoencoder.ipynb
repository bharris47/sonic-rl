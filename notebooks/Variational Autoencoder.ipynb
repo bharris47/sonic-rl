{
 "cells": [
  {
   "cell_type": "code",
   "execution_count": 29,
   "metadata": {},
   "outputs": [],
   "source": [
    "import os\n",
    "import random\n",
    "\n",
    "from sonicrl.worldmodel.autoencoder import autoencoder, load_image\n",
    "\n",
    "import cv2\n",
    "import numpy as np\n",
    "import ipywidgets as widgets\n",
    "\n",
    "from IPython.display import display"
   ]
  },
  {
   "cell_type": "code",
   "execution_count": 51,
   "metadata": {},
   "outputs": [],
   "source": [
    "VAE_WEIGHTS = '/home/ben/PycharmProjects/sonicrl/checkpoints_sample/vae.03-35964.729483.hdf5'\n",
    "ENCODER_WEIGHTS = '/home/ben/PycharmProjects/sonicrl/checkpoints_sample/encoder.03-35964.729483.hdf5'\n",
    "DECODER_WEIGHTS = '/home/ben/PycharmProjects/sonicrl/checkpoints_sample/<keras.engine.training.Model object at 0x7ffb04a1db38>.03-35964.729483.hdf5'\n",
    "\n",
    "FRAMES_DIRECTORY = '/home/ben/PycharmProjects/frames/'"
   ]
  },
  {
   "cell_type": "code",
   "execution_count": 39,
   "metadata": {},
   "outputs": [],
   "source": [
    "def get_image_bytes(path):\n",
    "    with open(path, 'rb') as f:\n",
    "        return f.read()\n",
    "\n",
    "def encode_image(image):\n",
    "    image = image * 255.\n",
    "    image = image.astype(np.uint8)\n",
    "    _, image_bytes = cv2.imencode('.jpg', image)\n",
    "    return image_bytes.tobytes()"
   ]
  },
  {
   "cell_type": "code",
   "execution_count": 50,
   "metadata": {},
   "outputs": [
    {
     "name": "stdout",
     "output_type": "stream",
     "text": [
      "__________________________________________________________________________________________________\n",
      "Layer (type)                    Output Shape         Param #     Connected to                     \n",
      "==================================================================================================\n",
      "input_3 (InputLayer)            (None, 224, 320, 3)  0                                            \n",
      "__________________________________________________________________________________________________\n",
      "conv2d_6 (Conv2D)               (None, 224, 320, 3)  84          input_3[0][0]                    \n",
      "__________________________________________________________________________________________________\n",
      "conv2d_7 (Conv2D)               (None, 112, 160, 64) 1792        conv2d_6[0][0]                   \n",
      "__________________________________________________________________________________________________\n",
      "conv2d_8 (Conv2D)               (None, 112, 160, 64) 36928       conv2d_7[0][0]                   \n",
      "__________________________________________________________________________________________________\n",
      "conv2d_9 (Conv2D)               (None, 56, 80, 64)   36928       conv2d_8[0][0]                   \n",
      "__________________________________________________________________________________________________\n",
      "flatten_2 (Flatten)             (None, 286720)       0           conv2d_9[0][0]                   \n",
      "__________________________________________________________________________________________________\n",
      "dense_6 (Dense)                 (None, 128)          36700288    flatten_2[0][0]                  \n",
      "__________________________________________________________________________________________________\n",
      "dense_7 (Dense)                 (None, 64)           8256        dense_6[0][0]                    \n",
      "__________________________________________________________________________________________________\n",
      "dense_8 (Dense)                 (None, 64)           8256        dense_6[0][0]                    \n",
      "__________________________________________________________________________________________________\n",
      "lambda_2 (Lambda)               (None, 64)           0           dense_7[0][0]                    \n",
      "                                                                 dense_8[0][0]                    \n",
      "__________________________________________________________________________________________________\n",
      "dense_9 (Dense)                 (None, 128)          8320        lambda_2[0][0]                   \n",
      "__________________________________________________________________________________________________\n",
      "dense_10 (Dense)                (None, 286720)       36986880    dense_9[0][0]                    \n",
      "__________________________________________________________________________________________________\n",
      "reshape_2 (Reshape)             (None, 56, 80, 64)   0           dense_10[0][0]                   \n",
      "__________________________________________________________________________________________________\n",
      "conv2d_transpose_4 (Conv2DTrans (None, 56, 80, 64)   36928       reshape_2[0][0]                  \n",
      "__________________________________________________________________________________________________\n",
      "conv2d_transpose_5 (Conv2DTrans (None, 112, 160, 64) 36928       conv2d_transpose_4[0][0]         \n",
      "__________________________________________________________________________________________________\n",
      "conv2d_transpose_6 (Conv2DTrans (None, 224, 320, 64) 36928       conv2d_transpose_5[0][0]         \n",
      "__________________________________________________________________________________________________\n",
      "conv2d_10 (Conv2D)              (None, 224, 320, 3)  1731        conv2d_transpose_6[0][0]         \n",
      "==================================================================================================\n",
      "Total params: 73,900,247\n",
      "Trainable params: 73,900,247\n",
      "Non-trainable params: 0\n",
      "__________________________________________________________________________________________________\n"
     ]
    },
    {
     "name": "stderr",
     "output_type": "stream",
     "text": [
      "/home/ben/PycharmProjects/sonicrl/sonicrl/worldmodel/autoencoder.py:105: UserWarning: Output \"conv2d_10\" missing from loss dictionary. We assume this was done on purpose, and we will not be expecting any data to be passed to \"conv2d_10\" during training.\n",
      "  vae.compile(optimizer='rmsprop')\n"
     ]
    }
   ],
   "source": [
    "_, encoder, decoder = autoencoder((224, 320, 3))"
   ]
  },
  {
   "cell_type": "code",
   "execution_count": 52,
   "metadata": {},
   "outputs": [],
   "source": [
    "encoder.load_weights(ENCODER_WEIGHTS)\n",
    "decoder.load_weights(DECODER_WEIGHTS)"
   ]
  },
  {
   "cell_type": "code",
   "execution_count": 10,
   "metadata": {},
   "outputs": [],
   "source": [
    "paths = [os.path.join(FRAMES_DIRECTORY, fn) for fn in os.listdir(FRAMES_DIRECTORY)]"
   ]
  },
  {
   "cell_type": "code",
   "execution_count": 56,
   "metadata": {},
   "outputs": [
    {
     "data": {
      "application/vnd.jupyter.widget-view+json": {
       "model_id": "c7297196c5924942b537ebd7dbdd020f",
       "version_major": 2,
       "version_minor": 0
      },
      "text/plain": [
       "VBox(children=(Button(description='Random Image', style=ButtonStyle()), HBox(children=(Image(value=b'', format…"
      ]
     },
     "metadata": {},
     "output_type": "display_data"
    }
   ],
   "source": [
    "def autoencode_random_image(_):\n",
    "    path = random.choice(paths)\n",
    "    image_bytes = get_image_bytes(path)\n",
    "    source_widget.value = image_bytes\n",
    "    image = load_image(path)\n",
    "    \n",
    "    z_mean, _, _ = encoder.predict(np.expand_dims(image, 0))\n",
    "    \n",
    "    reconstructed = decoder.predict(z_mean)[0]\n",
    "    reconstructed_bytes = encode_image(reconstructed)\n",
    "    reconstructed_widget.value = reconstructed_bytes\n",
    "    \n",
    "trigger = widgets.Button(description='Random Image')\n",
    "trigger.on_click(autoencode_random_image)\n",
    "\n",
    "source_widget = widgets.Image(format='jpg', height=224, width=320)\n",
    "reconstructed_widget = widgets.Image(format='jpg', height=224, width=320)\n",
    "\n",
    "image_layout = widgets.HBox([source_widget, reconstructed_widget])\n",
    "layout = widgets.VBox([trigger, image_layout])\n",
    "display(layout)\n",
    "autoencode_random_image(None)"
   ]
  },
  {
   "cell_type": "code",
   "execution_count": null,
   "metadata": {},
   "outputs": [],
   "source": []
  }
 ],
 "metadata": {
  "kernelspec": {
   "display_name": "Python 3 (sonicrl)",
   "language": "python",
   "name": "sonicrl"
  },
  "language_info": {
   "codemirror_mode": {
    "name": "ipython",
    "version": 3
   },
   "file_extension": ".py",
   "mimetype": "text/x-python",
   "name": "python",
   "nbconvert_exporter": "python",
   "pygments_lexer": "ipython3",
   "version": "3.6.3"
  }
 },
 "nbformat": 4,
 "nbformat_minor": 2
}
